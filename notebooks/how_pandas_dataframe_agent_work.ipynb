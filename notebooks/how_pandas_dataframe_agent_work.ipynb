{
 "cells": [
  {
   "cell_type": "code",
   "execution_count": 1,
   "id": "1326e8eb",
   "metadata": {},
   "outputs": [
    {
     "data": {
      "text/plain": [
       "True"
      ]
     },
     "execution_count": 1,
     "metadata": {},
     "output_type": "execute_result"
    }
   ],
   "source": [
    "import pandas as pd\n",
    "import matplotlib.pyplot as plt\n",
    "\n",
    "\n",
    "from langchain_experimental.agents.agent_toolkits.pandas.base import create_pandas_dataframe_agent\n",
    "from langchain_openai import ChatOpenAI\n",
    "from langchain_groq import ChatGroq\n",
    "\n",
    "from dotenv import load_dotenv\n",
    "\n",
    "load_dotenv()"
   ]
  },
  {
   "cell_type": "code",
   "execution_count": 2,
   "id": "a864a97a",
   "metadata": {},
   "outputs": [],
   "source": [
    "import sys\n",
    "sys.path.append(r'D:\\AI\\DAGPT_YOUTUBE\\dagpt')\n",
    "from src.models.llms import load_llm\n",
    "\n",
    "MODEL_NAME = 'llama-3.3-70b-versatile'\n",
    "\n",
    "llm=load_llm(model_name=MODEL_NAME)\n",
    "\n"
   ]
  },
  {
   "cell_type": "code",
   "execution_count": 3,
   "id": "31151eba",
   "metadata": {},
   "outputs": [
    {
     "data": {
      "text/plain": [
       "AIMessage(content='Hello. I\\'m an artificial intelligence model known as Llama. Llama stands for \"Large Language Model Meta AI.\"', additional_kwargs={}, response_metadata={'token_usage': {'completion_tokens': 25, 'prompt_tokens': 41, 'total_tokens': 66, 'completion_time': 0.03489167, 'prompt_time': 0.01079874, 'queue_time': 0.04539265, 'total_time': 0.04569041}, 'model_name': 'llama-3.3-70b-versatile', 'system_fingerprint': 'fp_2ddfbb0da0', 'finish_reason': 'stop', 'logprobs': None}, id='run--db6d1359-3f95-4364-8330-9bbac2429d8d-0', usage_metadata={'input_tokens': 41, 'output_tokens': 25, 'total_tokens': 66})"
      ]
     },
     "execution_count": 3,
     "metadata": {},
     "output_type": "execute_result"
    }
   ],
   "source": [
    "llm.invoke(\"Hello, Who are you?\")"
   ]
  },
  {
   "cell_type": "code",
   "execution_count": 12,
   "id": "a15fd433",
   "metadata": {},
   "outputs": [
    {
     "data": {
      "text/plain": [
       "AgentExecutor(verbose=True, agent=RunnableMultiActionAgent(runnable=RunnableAssign(mapper={\n",
       "  agent_scratchpad: RunnableLambda(lambda x: message_formatter(x['intermediate_steps']))\n",
       "})\n",
       "| ChatPromptTemplate(input_variables=['agent_scratchpad', 'input'], input_types={'agent_scratchpad': list[typing.Annotated[typing.Union[typing.Annotated[langchain_core.messages.ai.AIMessage, Tag(tag='ai')], typing.Annotated[langchain_core.messages.human.HumanMessage, Tag(tag='human')], typing.Annotated[langchain_core.messages.chat.ChatMessage, Tag(tag='chat')], typing.Annotated[langchain_core.messages.system.SystemMessage, Tag(tag='system')], typing.Annotated[langchain_core.messages.function.FunctionMessage, Tag(tag='function')], typing.Annotated[langchain_core.messages.tool.ToolMessage, Tag(tag='tool')], typing.Annotated[langchain_core.messages.ai.AIMessageChunk, Tag(tag='AIMessageChunk')], typing.Annotated[langchain_core.messages.human.HumanMessageChunk, Tag(tag='HumanMessageChunk')], typing.Annotated[langchain_core.messages.chat.ChatMessageChunk, Tag(tag='ChatMessageChunk')], typing.Annotated[langchain_core.messages.system.SystemMessageChunk, Tag(tag='SystemMessageChunk')], typing.Annotated[langchain_core.messages.function.FunctionMessageChunk, Tag(tag='FunctionMessageChunk')], typing.Annotated[langchain_core.messages.tool.ToolMessageChunk, Tag(tag='ToolMessageChunk')]], FieldInfo(annotation=NoneType, required=True, discriminator=Discriminator(discriminator=<function _get_type at 0x000001C2B493C940>, custom_error_type=None, custom_error_message=None, custom_error_context=None))]]}, partial_variables={}, messages=[SystemMessage(content='\\nYou are working with a pandas dataframe in Python. The name of the dataframe is `df`.\\nThis is the result of `print(df.head())`:\\n|    | Store Name   | Date      | Product   |   Unit Price |   Sales |   Revenue |   Stock Quantity |    Profit | Store Address   | Postal Code   |\\n|---:|:-------------|:----------|:----------|-------------:|--------:|----------:|-----------------:|----------:|:----------------|:--------------|\\n|  0 | 7-Eleven     | 2023/1/8  | Bakery    |       623.95 |      33 |  20590.3  |               67 |  8236.14  | Osaka, Japan    | 530-0001      |\\n|  1 | 7-Eleven     | 2023/1/23 | Bakery    |       714.97 |      40 |  28598.8  |               46 | 11439.5   | Osaka, Japan    | 530-0001      |\\n|  2 | 7-Eleven     | 2023/2/2  | Bakery    |       174.14 |      41 |   7139.74 |               79 |  2855.9   | Osaka, Japan    | 530-0001      |\\n|  3 | 7-Eleven     | 2023/3/8  | Bakery    |       816.88 |      44 |  35942.7  |               37 | 14377.1   | Osaka, Japan    | 530-0001      |\\n|  4 | 7-Eleven     | 2023/1/29 | Beef Bowl |       247.26 |       9 |   2225.34 |               23 |   890.136 | Osaka, Japan    | 530-0001      |', additional_kwargs={}, response_metadata={}), HumanMessagePromptTemplate(prompt=PromptTemplate(input_variables=['input'], input_types={}, partial_variables={}, template='{input}'), additional_kwargs={}), MessagesPlaceholder(variable_name='agent_scratchpad')])\n",
       "| RunnableBinding(bound=ChatGroq(client=<groq.resources.chat.completions.Completions object at 0x000001C2B723DC00>, async_client=<groq.resources.chat.completions.AsyncCompletions object at 0x000001C2B7264070>, model_name='llama-3.3-70b-versatile', temperature=1e-08, model_kwargs={}, groq_api_key=SecretStr('**********'), max_tokens=1000), kwargs={'tools': [{'type': 'function', 'function': {'name': 'python_repl_ast', 'description': 'A Python shell. Use this to execute python commands. Input should be a valid python command. When using this tool, sometimes output is abbreviated - make sure it does not look abbreviated before using it in your answer.', 'parameters': {'properties': {'query': {'description': 'code snippet to run', 'type': 'string'}}, 'required': ['query'], 'type': 'object'}}}]}, config={}, config_factories=[])\n",
       "| ToolsAgentOutputParser(), input_keys_arg=['input'], return_keys_arg=['output'], stream_runnable=True), tools=[PythonAstREPLTool(globals={}, locals={'df':     Store Name       Date    Product  Unit Price  Sales   Revenue  \\\n",
       "0     7-Eleven   2023/1/8     Bakery      623.95     33  20590.35   \n",
       "1     7-Eleven  2023/1/23     Bakery      714.97     40  28598.80   \n",
       "2     7-Eleven   2023/2/2     Bakery      174.14     41   7139.74   \n",
       "3     7-Eleven   2023/3/8     Bakery      816.88     44  35942.72   \n",
       "4     7-Eleven  2023/1/29  Beef Bowl      247.26      9   2225.34   \n",
       "..         ...        ...        ...         ...    ...       ...   \n",
       "95  FamilyMart   2023/2/4     Snacks      689.06      8   5512.48   \n",
       "96  FamilyMart  2023/3/15     Snacks      542.44     32  17358.08   \n",
       "97  FamilyMart  2023/3/19     Snacks      817.80     10   8178.00   \n",
       "98  FamilyMart  2023/3/20     Snacks      379.33     35  13276.55   \n",
       "99  FamilyMart  2023/1/25  Spaghetti      346.26      3   1038.78   \n",
       "\n",
       "    Stock Quantity     Profit Store Address Postal Code  \n",
       "0               67   8236.140  Osaka, Japan    530-0001  \n",
       "1               46  11439.520  Osaka, Japan    530-0001  \n",
       "2               79   2855.896  Osaka, Japan    530-0001  \n",
       "3               37  14377.088  Osaka, Japan    530-0001  \n",
       "4               23    890.136  Osaka, Japan    530-0001  \n",
       "..             ...        ...           ...         ...  \n",
       "95              98   2204.992  Tokyo, Japan    100-0001  \n",
       "96              65   6943.232  Tokyo, Japan    100-0001  \n",
       "97              70   3271.200  Tokyo, Japan    100-0001  \n",
       "98              29   5310.620  Tokyo, Japan    100-0001  \n",
       "99              47    415.512  Tokyo, Japan    100-0001  \n",
       "\n",
       "[100 rows x 10 columns]})], return_intermediate_steps=True)"
      ]
     },
     "execution_count": 12,
     "metadata": {},
     "output_type": "execute_result"
    }
   ],
   "source": [
    "import streamlit as st\n",
    "\n",
    "df = pd.read_csv(\"../data/raw/sample_data.csv\")\n",
    "\n",
    "# Create data analysis agent to query with ours data\n",
    "da_agent = create_pandas_dataframe_agent(\n",
    "    llm=llm,\n",
    "    df=df,\n",
    "    agent_type='tool-calling',\n",
    "    allow_dangerous_code=True,\n",
    "    verbose=True,\n",
    "    return_intermediate_steps=True\n",
    ")\n",
    "da_agent"
   ]
  },
  {
   "cell_type": "code",
   "execution_count": 15,
   "id": "d839de97",
   "metadata": {},
   "outputs": [
    {
     "data": {
      "text/html": [
       "<div>\n",
       "<style scoped>\n",
       "    .dataframe tbody tr th:only-of-type {\n",
       "        vertical-align: middle;\n",
       "    }\n",
       "\n",
       "    .dataframe tbody tr th {\n",
       "        vertical-align: top;\n",
       "    }\n",
       "\n",
       "    .dataframe thead th {\n",
       "        text-align: right;\n",
       "    }\n",
       "</style>\n",
       "<table border=\"1\" class=\"dataframe\">\n",
       "  <thead>\n",
       "    <tr style=\"text-align: right;\">\n",
       "      <th></th>\n",
       "      <th>Store Name</th>\n",
       "      <th>Date</th>\n",
       "      <th>Product</th>\n",
       "      <th>Unit Price</th>\n",
       "      <th>Sales</th>\n",
       "      <th>Revenue</th>\n",
       "      <th>Stock Quantity</th>\n",
       "      <th>Profit</th>\n",
       "      <th>Store Address</th>\n",
       "      <th>Postal Code</th>\n",
       "    </tr>\n",
       "  </thead>\n",
       "  <tbody>\n",
       "    <tr>\n",
       "      <th>0</th>\n",
       "      <td>7-Eleven</td>\n",
       "      <td>2023/1/8</td>\n",
       "      <td>Bakery</td>\n",
       "      <td>623.95</td>\n",
       "      <td>33</td>\n",
       "      <td>20590.35</td>\n",
       "      <td>67</td>\n",
       "      <td>8236.140</td>\n",
       "      <td>Osaka, Japan</td>\n",
       "      <td>530-0001</td>\n",
       "    </tr>\n",
       "    <tr>\n",
       "      <th>1</th>\n",
       "      <td>7-Eleven</td>\n",
       "      <td>2023/1/23</td>\n",
       "      <td>Bakery</td>\n",
       "      <td>714.97</td>\n",
       "      <td>40</td>\n",
       "      <td>28598.80</td>\n",
       "      <td>46</td>\n",
       "      <td>11439.520</td>\n",
       "      <td>Osaka, Japan</td>\n",
       "      <td>530-0001</td>\n",
       "    </tr>\n",
       "    <tr>\n",
       "      <th>2</th>\n",
       "      <td>7-Eleven</td>\n",
       "      <td>2023/2/2</td>\n",
       "      <td>Bakery</td>\n",
       "      <td>174.14</td>\n",
       "      <td>41</td>\n",
       "      <td>7139.74</td>\n",
       "      <td>79</td>\n",
       "      <td>2855.896</td>\n",
       "      <td>Osaka, Japan</td>\n",
       "      <td>530-0001</td>\n",
       "    </tr>\n",
       "    <tr>\n",
       "      <th>3</th>\n",
       "      <td>7-Eleven</td>\n",
       "      <td>2023/3/8</td>\n",
       "      <td>Bakery</td>\n",
       "      <td>816.88</td>\n",
       "      <td>44</td>\n",
       "      <td>35942.72</td>\n",
       "      <td>37</td>\n",
       "      <td>14377.088</td>\n",
       "      <td>Osaka, Japan</td>\n",
       "      <td>530-0001</td>\n",
       "    </tr>\n",
       "    <tr>\n",
       "      <th>4</th>\n",
       "      <td>7-Eleven</td>\n",
       "      <td>2023/1/29</td>\n",
       "      <td>Beef Bowl</td>\n",
       "      <td>247.26</td>\n",
       "      <td>9</td>\n",
       "      <td>2225.34</td>\n",
       "      <td>23</td>\n",
       "      <td>890.136</td>\n",
       "      <td>Osaka, Japan</td>\n",
       "      <td>530-0001</td>\n",
       "    </tr>\n",
       "  </tbody>\n",
       "</table>\n",
       "</div>"
      ],
      "text/plain": [
       "  Store Name       Date    Product  Unit Price  Sales   Revenue  \\\n",
       "0   7-Eleven   2023/1/8     Bakery      623.95     33  20590.35   \n",
       "1   7-Eleven  2023/1/23     Bakery      714.97     40  28598.80   \n",
       "2   7-Eleven   2023/2/2     Bakery      174.14     41   7139.74   \n",
       "3   7-Eleven   2023/3/8     Bakery      816.88     44  35942.72   \n",
       "4   7-Eleven  2023/1/29  Beef Bowl      247.26      9   2225.34   \n",
       "\n",
       "   Stock Quantity     Profit Store Address Postal Code  \n",
       "0              67   8236.140  Osaka, Japan    530-0001  \n",
       "1              46  11439.520  Osaka, Japan    530-0001  \n",
       "2              79   2855.896  Osaka, Japan    530-0001  \n",
       "3              37  14377.088  Osaka, Japan    530-0001  \n",
       "4              23    890.136  Osaka, Japan    530-0001  "
      ]
     },
     "execution_count": 15,
     "metadata": {},
     "output_type": "execute_result"
    }
   ],
   "source": [
    "df.head()"
   ]
  },
  {
   "cell_type": "code",
   "execution_count": 20,
   "id": "cf7b6688",
   "metadata": {},
   "outputs": [
    {
     "name": "stdout",
     "output_type": "stream",
     "text": [
      "\n",
      "\n",
      "\u001b[1m> Entering new AgentExecutor chain...\u001b[0m\n"
     ]
    },
    {
     "data": {
      "image/png": "[encoded data removed]",
      "text/plain": [
       "<Figure size 1000x600 with 1 Axes>"
      ]
     },
     "metadata": {},
     "output_type": "display_data"
    },
    {
     "name": "stdout",
     "output_type": "stream",
     "text": [
      "\u001b[32;1m\u001b[1;3m\n",
      "Invoking: `python_repl_ast` with `{'query': \"import matplotlib.pyplot as plt\\nplt.figure(figsize=(10,6))\\nplt.bar(df['Product'], df['Sales'])\\nplt.xlabel('Product')\\nplt.ylabel('Sales')\\nplt.title('Sales by Product')\\nplt.show()\"}`\n",
      "\n",
      "\n",
      "\u001b[0m\u001b[36;1m\u001b[1;3m\u001b[0m\u001b[32;1m\u001b[1;3mThis code will create a bar plot where the x-axis represents the product and the y-axis represents the sales. Each bar will represent the total sales for each product. \n",
      "\n",
      "Please note that this code will only work if you have the necessary libraries (pandas and matplotlib) installed in your Python environment. If not, you can install them using pip:\n",
      "\n",
      "```\n",
      "pip install pandas matplotlib\n",
      "```\u001b[0m\n",
      "\n",
      "\u001b[1m> Finished chain.\u001b[0m\n"
     ]
    },
    {
     "data": {
      "text/plain": [
       "{'input': 'Plot bar plot of Sales',\n",
       " 'output': 'This code will create a bar plot where the x-axis represents the product and the y-axis represents the sales. Each bar will represent the total sales for each product. \\n\\nPlease note that this code will only work if you have the necessary libraries (pandas and matplotlib) installed in your Python environment. If not, you can install them using pip:\\n\\n```\\npip install pandas matplotlib\\n```',\n",
       " 'intermediate_steps': [(ToolAgentAction(tool='python_repl_ast', tool_input={'query': \"import matplotlib.pyplot as plt\\nplt.figure(figsize=(10,6))\\nplt.bar(df['Product'], df['Sales'])\\nplt.xlabel('Product')\\nplt.ylabel('Sales')\\nplt.title('Sales by Product')\\nplt.show()\"}, log='\\nInvoking: `python_repl_ast` with `{\\'query\\': \"import matplotlib.pyplot as plt\\\\nplt.figure(figsize=(10,6))\\\\nplt.bar(df[\\'Product\\'], df[\\'Sales\\'])\\\\nplt.xlabel(\\'Product\\')\\\\nplt.ylabel(\\'Sales\\')\\\\nplt.title(\\'Sales by Product\\')\\\\nplt.show()\"}`\\n\\n\\n', message_log=[AIMessageChunk(content='', additional_kwargs={'tool_calls': [{'index': 0, 'id': 'jdah4rf9t', 'function': {'arguments': '{\"query\":\"import matplotlib.pyplot as plt\\\\nplt.figure(figsize=(10,6))\\\\nplt.bar(df[\\'Product\\'], df[\\'Sales\\'])\\\\nplt.xlabel(\\'Product\\')\\\\nplt.ylabel(\\'Sales\\')\\\\nplt.title(\\'Sales by Product\\')\\\\nplt.show()\"}', 'name': 'python_repl_ast'}, 'type': 'function'}]}, response_metadata={'finish_reason': 'tool_calls', 'model_name': 'llama-3.3-70b-versatile', 'system_fingerprint': 'fp_6507bcfb6f'}, id='run--92f3197b-499b-4493-90e6-5954084c11ed', tool_calls=[{'name': 'python_repl_ast', 'args': {'query': \"import matplotlib.pyplot as plt\\nplt.figure(figsize=(10,6))\\nplt.bar(df['Product'], df['Sales'])\\nplt.xlabel('Product')\\nplt.ylabel('Sales')\\nplt.title('Sales by Product')\\nplt.show()\"}, 'id': 'jdah4rf9t', 'type': 'tool_call'}], usage_metadata={'input_tokens': 717, 'output_tokens': 69, 'total_tokens': 786}, tool_call_chunks=[{'name': 'python_repl_ast', 'args': '{\"query\":\"import matplotlib.pyplot as plt\\\\nplt.figure(figsize=(10,6))\\\\nplt.bar(df[\\'Product\\'], df[\\'Sales\\'])\\\\nplt.xlabel(\\'Product\\')\\\\nplt.ylabel(\\'Sales\\')\\\\nplt.title(\\'Sales by Product\\')\\\\nplt.show()\"}', 'id': 'jdah4rf9t', 'index': 0, 'type': 'tool_call_chunk'}])], tool_call_id='jdah4rf9t'),\n",
       "   '')]}"
      ]
     },
     "execution_count": 20,
     "metadata": {},
     "output_type": "execute_result"
    }
   ],
   "source": [
    "query = \"Plot bar plot of Sales\"\n",
    "\n",
    "response = da_agent(query)\n",
    "response\n"
   ]
  },
  {
   "cell_type": "code",
   "execution_count": null,
   "id": "3c54b0f1",
   "metadata": {},
   "outputs": [
    {
     "name": "stdout",
     "output_type": "stream",
     "text": [
      "import matplotlib.pyplot as plt\n",
      "plt.figure(figsize=(10,6))\n",
      "plt.bar(df['Product'], df['Sales'])\n",
      "plt.xlabel('Product')\n",
      "plt.ylabel('Sales')\n",
      "plt.title('Sales by Product')\n",
      "plt.show()\n"
     ]
    }
   ],
   "source": [
    "# Lay code ben trong agent tool ra\n",
    "print(response[\"intermediate_steps\"][-1][0].tool_input['query'])"
   ]
  },
  {
   "cell_type": "code",
   "execution_count": 29,
   "id": "1d470075",
   "metadata": {},
   "outputs": [
    {
     "data": {
      "text/plain": [
       "array(['Bakery', 'Beef Bowl', 'Bento Box', 'Bread', 'Chicken',\n",
       "       'Curry Rice', 'Fried Chicken', 'Green Salad', 'Lunch Box',\n",
       "       'Onigiri', 'Pasta', 'Rice Ball', 'Salad', 'Sandwich', 'Sashimi',\n",
       "       'Snacks', 'Spaghetti', 'Sushi', 'Chips'], dtype=object)"
      ]
     },
     "execution_count": 29,
     "metadata": {},
     "output_type": "execute_result"
    }
   ],
   "source": [
    "df['Product'].unique()"
   ]
  }
 ],
 "metadata": {
  "kernelspec": {
   "display_name": "Python 3",
   "language": "python",
   "name": "python3"
  },
  "language_info": {
   "codemirror_mode": {
    "name": "ipython",
    "version": 3
   },
   "file_extension": ".py",
   "mimetype": "text/x-python",
   "name": "python",
   "nbconvert_exporter": "python",
   "pygments_lexer": "ipython3",
   "version": "3.10.11"
  }
 },
 "nbformat": 4,
 "nbformat_minor": 5
}
